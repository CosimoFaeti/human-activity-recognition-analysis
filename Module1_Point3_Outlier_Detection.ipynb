{
 "cells": [
  {
   "cell_type": "markdown",
   "id": "784c6456",
   "metadata": {},
   "source": [
    "# Outlier Detection\n",
    "\n",
    "Performed on original dataset\n",
    "\n",
    "Types:\n",
    "* Visual approach: Boxplot\n",
    "* Statistical approach: Grubbs' test ; Likelihood approach\n",
    "* Density-based approach: DBSCAN ; LOF ; kNN\n",
    "* Angle-based approach: ABOD\n",
    "* Model-based approach: Isolation forest"
   ]
  },
  {
   "cell_type": "markdown",
   "id": "cd9fece2",
   "metadata": {},
   "source": [
    "#### Importing libraries"
   ]
  },
  {
   "cell_type": "code",
   "execution_count": 1,
   "id": "8836b591",
   "metadata": {},
   "outputs": [],
   "source": [
    "%matplotlib inline \n",
    "\n",
    "import numpy as np\n",
    "import pandas as pd\n",
    "import matplotlib.pyplot as plt\n",
    "import seaborn as sns"
   ]
  },
  {
   "cell_type": "markdown",
   "id": "113940f0",
   "metadata": {},
   "source": [
    "#### Load Train and Test set"
   ]
  },
  {
   "cell_type": "code",
   "execution_count": 2,
   "id": "944e037a",
   "metadata": {},
   "outputs": [],
   "source": [
    "df_train = pd.read_csv('csv/train.csv')\n",
    "df_test = pd.read_csv('csv/test.csv')"
   ]
  },
  {
   "cell_type": "code",
   "execution_count": 3,
   "id": "a35bbd68",
   "metadata": {},
   "outputs": [],
   "source": [
    "df_train_new = df_train.drop(['subject','Activity','ActivityName'], axis = 1)"
   ]
  },
  {
   "cell_type": "markdown",
   "id": "c74d2c24",
   "metadata": {},
   "source": [
    "# LOF"
   ]
  },
  {
   "cell_type": "code",
   "execution_count": 4,
   "id": "d5dd2f4f",
   "metadata": {},
   "outputs": [],
   "source": [
    "from sklearn.neighbors import LocalOutlierFactor"
   ]
  },
  {
   "cell_type": "code",
   "execution_count": 5,
   "id": "f0871657",
   "metadata": {},
   "outputs": [],
   "source": [
    "clf_LOF = LocalOutlierFactor(contamination=0.01, n_neighbors = 20) # n_neighbors = 20 is optimal value according to sklearn\n",
    "outliers = clf_LOF.fit_predict(df_train_new)"
   ]
  },
  {
   "cell_type": "code",
   "execution_count": 6,
   "id": "3b623a2d",
   "metadata": {},
   "outputs": [
    {
     "data": {
      "text/plain": [
       "array([-1.51250875, -1.04592516, -1.02306275, ..., -1.02502088,\n",
       "       -1.02111953, -1.00732075])"
      ]
     },
     "execution_count": 6,
     "metadata": {},
     "output_type": "execute_result"
    }
   ],
   "source": [
    "clf_LOF.negative_outlier_factor_"
   ]
  },
  {
   "cell_type": "code",
   "execution_count": 7,
   "id": "ecf5dee2",
   "metadata": {},
   "outputs": [
    {
     "data": {
      "text/plain": [
       "(array([-1,  1]), array([  74, 7278], dtype=int64))"
      ]
     },
     "execution_count": 7,
     "metadata": {},
     "output_type": "execute_result"
    }
   ],
   "source": [
    "np.unique(outliers, return_counts=True)"
   ]
  },
  {
   "cell_type": "code",
   "execution_count": 8,
   "id": "48551f04",
   "metadata": {},
   "outputs": [
    {
     "data": {
      "text/plain": [
       "(array([   0,   66,   67,   70,   71,  237,  238,  388,  389,  564,  870,\n",
       "         872, 1020, 1062, 1194, 1209, 1308, 1343, 1369, 1425, 1513, 1523,\n",
       "        1788, 1813, 1816, 1817, 1904, 1950, 2112, 2123, 2125, 2224, 2250,\n",
       "        2413, 2440, 2451, 2511, 2531, 2532, 2871, 2911, 2937, 3050, 3074,\n",
       "        3091, 3129, 3238, 3296, 3625, 3683, 3785, 3792, 3810, 3900, 3915,\n",
       "        3934, 3935, 4281, 4393, 4537, 4539, 4580, 4729, 4730, 4744, 4828,\n",
       "        4939, 5066, 5136, 5143, 5149, 5355, 5476, 7002], dtype=int64),)"
      ]
     },
     "execution_count": 8,
     "metadata": {},
     "output_type": "execute_result"
    }
   ],
   "source": [
    "np.where(outliers==-1)"
   ]
  },
  {
   "cell_type": "code",
   "execution_count": 9,
   "id": "c001ce33",
   "metadata": {},
   "outputs": [
    {
     "data": {
      "text/plain": [
       "array([-1.51250875, -1.44784559, -1.32304935, -1.76979158, -1.75632535,\n",
       "       -1.49435091, -1.45189441, -1.42504773, -1.40277195, -1.50302003,\n",
       "       -1.31731551, -1.30462513, -1.28376933, -1.31911149, -1.35605065,\n",
       "       -1.36398697, -1.344943  , -1.3058589 , -1.33307227, -1.30882298,\n",
       "       -1.3073868 , -1.28689476, -1.34615713, -1.32413016, -1.28839286,\n",
       "       -1.47867624, -1.74529324, -1.32595522, -1.41095223, -1.31498244,\n",
       "       -1.34656021, -1.34336841, -1.28455338, -1.31302682, -1.27853757,\n",
       "       -1.38975431, -1.27915142, -1.40334874, -1.5282831 , -1.32891496,\n",
       "       -1.29613265, -1.44397904, -1.28252979, -1.29490094, -1.27840565,\n",
       "       -1.34011233, -1.45979863, -1.32525614, -1.28273049, -1.30885295,\n",
       "       -1.28199026, -1.40274149, -1.40911779, -1.32362698, -1.28885658,\n",
       "       -1.4847566 , -1.45074094, -1.31523097, -1.33751744, -1.31361828,\n",
       "       -1.28326321, -1.35807806, -1.5520981 , -1.73463948, -1.40796695,\n",
       "       -1.29117857, -1.31220904, -1.67653791, -1.30528623, -1.28554394,\n",
       "       -1.30046816, -1.29261088, -1.27815369, -1.28678213])"
      ]
     },
     "execution_count": 9,
     "metadata": {},
     "output_type": "execute_result"
    }
   ],
   "source": [
    "clf_LOF.negative_outlier_factor_[np.where(outliers==-1)]"
   ]
  },
  {
   "cell_type": "code",
   "execution_count": 10,
   "id": "a9f3e157",
   "metadata": {},
   "outputs": [
    {
     "data": {
      "text/plain": [
       "-1.2781536904668016"
      ]
     },
     "execution_count": 10,
     "metadata": {},
     "output_type": "execute_result"
    }
   ],
   "source": [
    "max_val = np.max(clf_LOF.negative_outlier_factor_[np.where(outliers==-1)])\n",
    "max_val"
   ]
  },
  {
   "cell_type": "code",
   "execution_count": 11,
   "id": "cbf68768",
   "metadata": {},
   "outputs": [
    {
     "data": {
      "text/plain": [
       "-1.769791579297302"
      ]
     },
     "execution_count": 11,
     "metadata": {},
     "output_type": "execute_result"
    }
   ],
   "source": [
    "min_val = np.min(clf_LOF.negative_outlier_factor_[np.where(outliers==-1)])\n",
    "min_val"
   ]
  },
  {
   "cell_type": "code",
   "execution_count": 12,
   "id": "43e523a8",
   "metadata": {
    "scrolled": true
   },
   "outputs": [
    {
     "data": {
      "image/png": "[encoded data removed]",
      "text/plain": [
       "<Figure size 432x288 with 1 Axes>"
      ]
     },
     "metadata": {
      "needs_background": "light"
     },
     "output_type": "display_data"
    }
   ],
   "source": [
    "plt.hist(clf_LOF.negative_outlier_factor_, bins=10)\n",
    "plt.axvline(max_val, c='r')\n",
    "plt.text(max_val, 250, 'outliers')\n",
    "plt.show()"
   ]
  },
  {
   "cell_type": "markdown",
   "id": "8d450d3d",
   "metadata": {},
   "source": [
    "#### Delete outliers"
   ]
  },
  {
   "cell_type": "code",
   "execution_count": 13,
   "id": "eb83634e",
   "metadata": {},
   "outputs": [],
   "source": [
    "idx_outlier = np.where(outliers==-1)"
   ]
  },
  {
   "cell_type": "code",
   "execution_count": 14,
   "id": "c30a2235",
   "metadata": {},
   "outputs": [],
   "source": [
    "for otl in idx_outlier:\n",
    "    df_train.drop(otl, axis=0, inplace=True)"
   ]
  },
  {
   "cell_type": "code",
   "execution_count": 15,
   "id": "dce31dc7",
   "metadata": {
    "scrolled": true
   },
   "outputs": [
    {
     "data": {
      "text/plain": [
       "(7278, 564)"
      ]
     },
     "execution_count": 15,
     "metadata": {},
     "output_type": "execute_result"
    }
   ],
   "source": [
    "df_train.shape"
   ]
  },
  {
   "cell_type": "markdown",
   "id": "1860915d",
   "metadata": {},
   "source": [
    "#### Create a new csv called \"df_train_"
   ]
  },
  {
   "cell_type": "code",
   "execution_count": 16,
   "id": "2fd8fd5a",
   "metadata": {},
   "outputs": [],
   "source": [
    "df_train.to_csv(\"csv/train_nooutlier.csv\", index=False)"
   ]
  },
  {
   "cell_type": "code",
   "execution_count": 17,
   "id": "fab43220",
   "metadata": {},
   "outputs": [],
   "source": [
    "df_train_nooutlier = pd.read_csv('csv/train_nooutlier.csv')"
   ]
  },
  {
   "cell_type": "code",
   "execution_count": 18,
   "id": "451fc343",
   "metadata": {},
   "outputs": [
    {
     "data": {
      "text/html": [
       "<div>\n",
       "<style scoped>\n",
       "    .dataframe tbody tr th:only-of-type {\n",
       "        vertical-align: middle;\n",
       "    }\n",
       "\n",
       "    .dataframe tbody tr th {\n",
       "        vertical-align: top;\n",
       "    }\n",
       "\n",
       "    .dataframe thead th {\n",
       "        text-align: right;\n",
       "    }\n",
       "</style>\n",
       "<table border=\"1\" class=\"dataframe\">\n",
       "  <thead>\n",
       "    <tr style=\"text-align: right;\">\n",
       "      <th></th>\n",
       "      <th>tBodyAcc-mean()-X</th>\n",
       "      <th>tBodyAcc-mean()-Y</th>\n",
       "      <th>tBodyAcc-mean()-Z</th>\n",
       "      <th>tBodyAcc-std()-X</th>\n",
       "      <th>tBodyAcc-std()-Y</th>\n",
       "      <th>tBodyAcc-std()-Z</th>\n",
       "      <th>tBodyAcc-mad()-X</th>\n",
       "      <th>tBodyAcc-mad()-Y</th>\n",
       "      <th>tBodyAcc-mad()-Z</th>\n",
       "      <th>tBodyAcc-max()-X</th>\n",
       "      <th>...</th>\n",
       "      <th>angle(tBodyAccMean,gravity)</th>\n",
       "      <th>angle(tBodyAccJerkMean),gravityMean)</th>\n",
       "      <th>angle(tBodyGyroMean,gravityMean)</th>\n",
       "      <th>angle(tBodyGyroJerkMean,gravityMean)</th>\n",
       "      <th>angle(X,gravityMean)</th>\n",
       "      <th>angle(Y,gravityMean)</th>\n",
       "      <th>angle(Z,gravityMean)</th>\n",
       "      <th>subject</th>\n",
       "      <th>Activity</th>\n",
       "      <th>ActivityName</th>\n",
       "    </tr>\n",
       "  </thead>\n",
       "  <tbody>\n",
       "    <tr>\n",
       "      <th>0</th>\n",
       "      <td>0.278419</td>\n",
       "      <td>-0.016411</td>\n",
       "      <td>-0.123520</td>\n",
       "      <td>-0.998245</td>\n",
       "      <td>-0.975300</td>\n",
       "      <td>-0.960322</td>\n",
       "      <td>-0.998807</td>\n",
       "      <td>-0.974914</td>\n",
       "      <td>-0.957686</td>\n",
       "      <td>-0.943068</td>\n",
       "      <td>...</td>\n",
       "      <td>0.053477</td>\n",
       "      <td>-0.007435</td>\n",
       "      <td>-0.732626</td>\n",
       "      <td>0.703511</td>\n",
       "      <td>-0.844788</td>\n",
       "      <td>0.180289</td>\n",
       "      <td>-0.054317</td>\n",
       "      <td>1</td>\n",
       "      <td>5</td>\n",
       "      <td>STANDING</td>\n",
       "    </tr>\n",
       "    <tr>\n",
       "      <th>1</th>\n",
       "      <td>0.279653</td>\n",
       "      <td>-0.019467</td>\n",
       "      <td>-0.113462</td>\n",
       "      <td>-0.995380</td>\n",
       "      <td>-0.967187</td>\n",
       "      <td>-0.978944</td>\n",
       "      <td>-0.996520</td>\n",
       "      <td>-0.963668</td>\n",
       "      <td>-0.977469</td>\n",
       "      <td>-0.938692</td>\n",
       "      <td>...</td>\n",
       "      <td>-0.118559</td>\n",
       "      <td>0.177899</td>\n",
       "      <td>0.100699</td>\n",
       "      <td>0.808529</td>\n",
       "      <td>-0.848933</td>\n",
       "      <td>0.180637</td>\n",
       "      <td>-0.049118</td>\n",
       "      <td>1</td>\n",
       "      <td>5</td>\n",
       "      <td>STANDING</td>\n",
       "    </tr>\n",
       "    <tr>\n",
       "      <th>2</th>\n",
       "      <td>0.279174</td>\n",
       "      <td>-0.026201</td>\n",
       "      <td>-0.123283</td>\n",
       "      <td>-0.996091</td>\n",
       "      <td>-0.983403</td>\n",
       "      <td>-0.990675</td>\n",
       "      <td>-0.997099</td>\n",
       "      <td>-0.982750</td>\n",
       "      <td>-0.989302</td>\n",
       "      <td>-0.938692</td>\n",
       "      <td>...</td>\n",
       "      <td>-0.036788</td>\n",
       "      <td>-0.012892</td>\n",
       "      <td>0.640011</td>\n",
       "      <td>-0.485366</td>\n",
       "      <td>-0.848649</td>\n",
       "      <td>0.181935</td>\n",
       "      <td>-0.047663</td>\n",
       "      <td>1</td>\n",
       "      <td>5</td>\n",
       "      <td>STANDING</td>\n",
       "    </tr>\n",
       "    <tr>\n",
       "      <th>3</th>\n",
       "      <td>0.276629</td>\n",
       "      <td>-0.016570</td>\n",
       "      <td>-0.115362</td>\n",
       "      <td>-0.998139</td>\n",
       "      <td>-0.980817</td>\n",
       "      <td>-0.990482</td>\n",
       "      <td>-0.998321</td>\n",
       "      <td>-0.979672</td>\n",
       "      <td>-0.990441</td>\n",
       "      <td>-0.942469</td>\n",
       "      <td>...</td>\n",
       "      <td>0.123320</td>\n",
       "      <td>0.122542</td>\n",
       "      <td>0.693578</td>\n",
       "      <td>-0.615971</td>\n",
       "      <td>-0.847865</td>\n",
       "      <td>0.185151</td>\n",
       "      <td>-0.043892</td>\n",
       "      <td>1</td>\n",
       "      <td>5</td>\n",
       "      <td>STANDING</td>\n",
       "    </tr>\n",
       "    <tr>\n",
       "      <th>4</th>\n",
       "      <td>0.277199</td>\n",
       "      <td>-0.010098</td>\n",
       "      <td>-0.105137</td>\n",
       "      <td>-0.997335</td>\n",
       "      <td>-0.990487</td>\n",
       "      <td>-0.995420</td>\n",
       "      <td>-0.997627</td>\n",
       "      <td>-0.990218</td>\n",
       "      <td>-0.995549</td>\n",
       "      <td>-0.942469</td>\n",
       "      <td>...</td>\n",
       "      <td>0.082632</td>\n",
       "      <td>-0.143439</td>\n",
       "      <td>0.275041</td>\n",
       "      <td>-0.368224</td>\n",
       "      <td>-0.849632</td>\n",
       "      <td>0.184823</td>\n",
       "      <td>-0.042126</td>\n",
       "      <td>1</td>\n",
       "      <td>5</td>\n",
       "      <td>STANDING</td>\n",
       "    </tr>\n",
       "    <tr>\n",
       "      <th>...</th>\n",
       "      <td>...</td>\n",
       "      <td>...</td>\n",
       "      <td>...</td>\n",
       "      <td>...</td>\n",
       "      <td>...</td>\n",
       "      <td>...</td>\n",
       "      <td>...</td>\n",
       "      <td>...</td>\n",
       "      <td>...</td>\n",
       "      <td>...</td>\n",
       "      <td>...</td>\n",
       "      <td>...</td>\n",
       "      <td>...</td>\n",
       "      <td>...</td>\n",
       "      <td>...</td>\n",
       "      <td>...</td>\n",
       "      <td>...</td>\n",
       "      <td>...</td>\n",
       "      <td>...</td>\n",
       "      <td>...</td>\n",
       "      <td>...</td>\n",
       "    </tr>\n",
       "    <tr>\n",
       "      <th>7273</th>\n",
       "      <td>0.299665</td>\n",
       "      <td>-0.057193</td>\n",
       "      <td>-0.181233</td>\n",
       "      <td>-0.195387</td>\n",
       "      <td>0.039905</td>\n",
       "      <td>0.077078</td>\n",
       "      <td>-0.282301</td>\n",
       "      <td>0.043616</td>\n",
       "      <td>0.060410</td>\n",
       "      <td>0.210795</td>\n",
       "      <td>...</td>\n",
       "      <td>-0.190437</td>\n",
       "      <td>0.829718</td>\n",
       "      <td>0.206972</td>\n",
       "      <td>-0.425619</td>\n",
       "      <td>-0.791883</td>\n",
       "      <td>0.238604</td>\n",
       "      <td>0.049819</td>\n",
       "      <td>30</td>\n",
       "      <td>2</td>\n",
       "      <td>WALKING_UPSTAIRS</td>\n",
       "    </tr>\n",
       "    <tr>\n",
       "      <th>7274</th>\n",
       "      <td>0.273853</td>\n",
       "      <td>-0.007749</td>\n",
       "      <td>-0.147468</td>\n",
       "      <td>-0.235309</td>\n",
       "      <td>0.004816</td>\n",
       "      <td>0.059280</td>\n",
       "      <td>-0.322552</td>\n",
       "      <td>-0.029456</td>\n",
       "      <td>0.080585</td>\n",
       "      <td>0.117440</td>\n",
       "      <td>...</td>\n",
       "      <td>0.064907</td>\n",
       "      <td>0.875679</td>\n",
       "      <td>-0.879033</td>\n",
       "      <td>0.400219</td>\n",
       "      <td>-0.771840</td>\n",
       "      <td>0.252676</td>\n",
       "      <td>0.050053</td>\n",
       "      <td>30</td>\n",
       "      <td>2</td>\n",
       "      <td>WALKING_UPSTAIRS</td>\n",
       "    </tr>\n",
       "    <tr>\n",
       "      <th>7275</th>\n",
       "      <td>0.273387</td>\n",
       "      <td>-0.017011</td>\n",
       "      <td>-0.045022</td>\n",
       "      <td>-0.218218</td>\n",
       "      <td>-0.103822</td>\n",
       "      <td>0.274533</td>\n",
       "      <td>-0.304515</td>\n",
       "      <td>-0.098913</td>\n",
       "      <td>0.332584</td>\n",
       "      <td>0.043999</td>\n",
       "      <td>...</td>\n",
       "      <td>0.052806</td>\n",
       "      <td>-0.266724</td>\n",
       "      <td>0.864404</td>\n",
       "      <td>0.701169</td>\n",
       "      <td>-0.779133</td>\n",
       "      <td>0.249145</td>\n",
       "      <td>0.040811</td>\n",
       "      <td>30</td>\n",
       "      <td>2</td>\n",
       "      <td>WALKING_UPSTAIRS</td>\n",
       "    </tr>\n",
       "    <tr>\n",
       "      <th>7276</th>\n",
       "      <td>0.289654</td>\n",
       "      <td>-0.018843</td>\n",
       "      <td>-0.158281</td>\n",
       "      <td>-0.219139</td>\n",
       "      <td>-0.111412</td>\n",
       "      <td>0.268893</td>\n",
       "      <td>-0.310487</td>\n",
       "      <td>-0.068200</td>\n",
       "      <td>0.319473</td>\n",
       "      <td>0.101702</td>\n",
       "      <td>...</td>\n",
       "      <td>-0.101360</td>\n",
       "      <td>0.700740</td>\n",
       "      <td>0.936674</td>\n",
       "      <td>-0.589479</td>\n",
       "      <td>-0.785181</td>\n",
       "      <td>0.246432</td>\n",
       "      <td>0.025339</td>\n",
       "      <td>30</td>\n",
       "      <td>2</td>\n",
       "      <td>WALKING_UPSTAIRS</td>\n",
       "    </tr>\n",
       "    <tr>\n",
       "      <th>7277</th>\n",
       "      <td>0.351503</td>\n",
       "      <td>-0.012423</td>\n",
       "      <td>-0.203867</td>\n",
       "      <td>-0.269270</td>\n",
       "      <td>-0.087212</td>\n",
       "      <td>0.177404</td>\n",
       "      <td>-0.377404</td>\n",
       "      <td>-0.038678</td>\n",
       "      <td>0.229430</td>\n",
       "      <td>0.269013</td>\n",
       "      <td>...</td>\n",
       "      <td>-0.280088</td>\n",
       "      <td>-0.007739</td>\n",
       "      <td>-0.056088</td>\n",
       "      <td>-0.616956</td>\n",
       "      <td>-0.783267</td>\n",
       "      <td>0.246809</td>\n",
       "      <td>0.036695</td>\n",
       "      <td>30</td>\n",
       "      <td>2</td>\n",
       "      <td>WALKING_UPSTAIRS</td>\n",
       "    </tr>\n",
       "  </tbody>\n",
       "</table>\n",
       "<p>7278 rows × 564 columns</p>\n",
       "</div>"
      ],
      "text/plain": [
       "      tBodyAcc-mean()-X  tBodyAcc-mean()-Y  tBodyAcc-mean()-Z  \\\n",
       "0              0.278419          -0.016411          -0.123520   \n",
       "1              0.279653          -0.019467          -0.113462   \n",
       "2              0.279174          -0.026201          -0.123283   \n",
       "3              0.276629          -0.016570          -0.115362   \n",
       "4              0.277199          -0.010098          -0.105137   \n",
       "...                 ...                ...                ...   \n",
       "7273           0.299665          -0.057193          -0.181233   \n",
       "7274           0.273853          -0.007749          -0.147468   \n",
       "7275           0.273387          -0.017011          -0.045022   \n",
       "7276           0.289654          -0.018843          -0.158281   \n",
       "7277           0.351503          -0.012423          -0.203867   \n",
       "\n",
       "      tBodyAcc-std()-X  tBodyAcc-std()-Y  tBodyAcc-std()-Z  tBodyAcc-mad()-X  \\\n",
       "0            -0.998245         -0.975300         -0.960322         -0.998807   \n",
       "1            -0.995380         -0.967187         -0.978944         -0.996520   \n",
       "2            -0.996091         -0.983403         -0.990675         -0.997099   \n",
       "3            -0.998139         -0.980817         -0.990482         -0.998321   \n",
       "4            -0.997335         -0.990487         -0.995420         -0.997627   \n",
       "...                ...               ...               ...               ...   \n",
       "7273         -0.195387          0.039905          0.077078         -0.282301   \n",
       "7274         -0.235309          0.004816          0.059280         -0.322552   \n",
       "7275         -0.218218         -0.103822          0.274533         -0.304515   \n",
       "7276         -0.219139         -0.111412          0.268893         -0.310487   \n",
       "7277         -0.269270         -0.087212          0.177404         -0.377404   \n",
       "\n",
       "      tBodyAcc-mad()-Y  tBodyAcc-mad()-Z  tBodyAcc-max()-X  ...  \\\n",
       "0            -0.974914         -0.957686         -0.943068  ...   \n",
       "1            -0.963668         -0.977469         -0.938692  ...   \n",
       "2            -0.982750         -0.989302         -0.938692  ...   \n",
       "3            -0.979672         -0.990441         -0.942469  ...   \n",
       "4            -0.990218         -0.995549         -0.942469  ...   \n",
       "...                ...               ...               ...  ...   \n",
       "7273          0.043616          0.060410          0.210795  ...   \n",
       "7274         -0.029456          0.080585          0.117440  ...   \n",
       "7275         -0.098913          0.332584          0.043999  ...   \n",
       "7276         -0.068200          0.319473          0.101702  ...   \n",
       "7277         -0.038678          0.229430          0.269013  ...   \n",
       "\n",
       "      angle(tBodyAccMean,gravity)  angle(tBodyAccJerkMean),gravityMean)  \\\n",
       "0                        0.053477                             -0.007435   \n",
       "1                       -0.118559                              0.177899   \n",
       "2                       -0.036788                             -0.012892   \n",
       "3                        0.123320                              0.122542   \n",
       "4                        0.082632                             -0.143439   \n",
       "...                           ...                                   ...   \n",
       "7273                    -0.190437                              0.829718   \n",
       "7274                     0.064907                              0.875679   \n",
       "7275                     0.052806                             -0.266724   \n",
       "7276                    -0.101360                              0.700740   \n",
       "7277                    -0.280088                             -0.007739   \n",
       "\n",
       "      angle(tBodyGyroMean,gravityMean)  angle(tBodyGyroJerkMean,gravityMean)  \\\n",
       "0                            -0.732626                              0.703511   \n",
       "1                             0.100699                              0.808529   \n",
       "2                             0.640011                             -0.485366   \n",
       "3                             0.693578                             -0.615971   \n",
       "4                             0.275041                             -0.368224   \n",
       "...                                ...                                   ...   \n",
       "7273                          0.206972                             -0.425619   \n",
       "7274                         -0.879033                              0.400219   \n",
       "7275                          0.864404                              0.701169   \n",
       "7276                          0.936674                             -0.589479   \n",
       "7277                         -0.056088                             -0.616956   \n",
       "\n",
       "      angle(X,gravityMean)  angle(Y,gravityMean)  angle(Z,gravityMean)  \\\n",
       "0                -0.844788              0.180289             -0.054317   \n",
       "1                -0.848933              0.180637             -0.049118   \n",
       "2                -0.848649              0.181935             -0.047663   \n",
       "3                -0.847865              0.185151             -0.043892   \n",
       "4                -0.849632              0.184823             -0.042126   \n",
       "...                    ...                   ...                   ...   \n",
       "7273             -0.791883              0.238604              0.049819   \n",
       "7274             -0.771840              0.252676              0.050053   \n",
       "7275             -0.779133              0.249145              0.040811   \n",
       "7276             -0.785181              0.246432              0.025339   \n",
       "7277             -0.783267              0.246809              0.036695   \n",
       "\n",
       "      subject  Activity      ActivityName  \n",
       "0           1         5          STANDING  \n",
       "1           1         5          STANDING  \n",
       "2           1         5          STANDING  \n",
       "3           1         5          STANDING  \n",
       "4           1         5          STANDING  \n",
       "...       ...       ...               ...  \n",
       "7273       30         2  WALKING_UPSTAIRS  \n",
       "7274       30         2  WALKING_UPSTAIRS  \n",
       "7275       30         2  WALKING_UPSTAIRS  \n",
       "7276       30         2  WALKING_UPSTAIRS  \n",
       "7277       30         2  WALKING_UPSTAIRS  \n",
       "\n",
       "[7278 rows x 564 columns]"
      ]
     },
     "execution_count": 18,
     "metadata": {},
     "output_type": "execute_result"
    }
   ],
   "source": [
    "df_train_nooutlier"
   ]
  },
  {
   "cell_type": "markdown",
   "id": "e54f64be",
   "metadata": {},
   "source": [
    "# Isolation Forest"
   ]
  },
  {
   "cell_type": "code",
   "execution_count": 53,
   "id": "6d6571e9",
   "metadata": {},
   "outputs": [],
   "source": [
    "from sklearn.ensemble import IsolationForest"
   ]
  },
  {
   "cell_type": "code",
   "execution_count": 54,
   "id": "7481e69a",
   "metadata": {},
   "outputs": [],
   "source": [
    "df_train.to_csv(\"csv/train_isoforest.csv\", index=False)\n",
    "df_test.to_csv(\"csv/test_isoforest.csv\", index=False)"
   ]
  },
  {
   "cell_type": "code",
   "execution_count": 55,
   "id": "bd097c77",
   "metadata": {},
   "outputs": [],
   "source": [
    "df_train_isoforest = pd.read_csv('csv/train_isoforest.csv')\n",
    "df_test_isoforest = pd.read_csv('csv/test_isoforest.csv')"
   ]
  },
  {
   "cell_type": "code",
   "execution_count": 56,
   "id": "49a01aac",
   "metadata": {},
   "outputs": [],
   "source": [
    "X_train = df_train.drop(['subject','ActivityName'], axis = 1)\n",
    "y_train = df_train.ActivityName"
   ]
  },
  {
   "cell_type": "code",
   "execution_count": 57,
   "id": "dae2a552",
   "metadata": {},
   "outputs": [],
   "source": [
    "X_test = df_test.drop(['subject','ActivityName'], axis = 1)\n",
    "y_test = df_test.ActivityName"
   ]
  },
  {
   "cell_type": "code",
   "execution_count": 58,
   "id": "a7f37523",
   "metadata": {},
   "outputs": [],
   "source": [
    "# Dinamic-> 1,2,3 & Static-> 4,5,6\n",
    "X_train_dinamic = X_train[X_train['Activity']<=3]\n",
    "X_train_static = X_train[X_train['Activity']>3]\n",
    "\n",
    "X_test_dinamic = X_test[X_test['Activity']<=3]\n",
    "X_test_static = X_test[X_test['Activity']>3]"
   ]
  },
  {
   "cell_type": "code",
   "execution_count": 59,
   "id": "2904605a",
   "metadata": {},
   "outputs": [
    {
     "name": "stderr",
     "output_type": "stream",
     "text": [
      "C:\\Users\\Cosimo\\anaconda3\\lib\\site-packages\\sklearn\\base.py:445: UserWarning: X does not have valid feature names, but IsolationForest was fitted with feature names\n",
      "  warnings.warn(\n"
     ]
    },
    {
     "data": {
      "text/plain": [
       "IsolationForest(contamination=0.01, random_state=0)"
      ]
     },
     "execution_count": 59,
     "metadata": {},
     "output_type": "execute_result"
    }
   ],
   "source": [
    "# Dinamic\n",
    "clf_ISOFOR = IsolationForest(contamination=0.01, random_state=0)\n",
    "clf_ISOFOR.fit(X_train_dinamic)"
   ]
  },
  {
   "cell_type": "code",
   "execution_count": 60,
   "id": "480423e3",
   "metadata": {},
   "outputs": [],
   "source": [
    "outliers = clf_ISOFOR.predict(X_test_dinamic)"
   ]
  },
  {
   "cell_type": "code",
   "execution_count": 61,
   "id": "548f8ca0",
   "metadata": {},
   "outputs": [
    {
     "data": {
      "text/plain": [
       "(array([-1,  1]), array([   1, 1386], dtype=int64))"
      ]
     },
     "execution_count": 61,
     "metadata": {},
     "output_type": "execute_result"
    }
   ],
   "source": [
    "np.unique(outliers, return_counts=True)"
   ]
  },
  {
   "cell_type": "code",
   "execution_count": 62,
   "id": "b831971f",
   "metadata": {
    "scrolled": false
   },
   "outputs": [
    {
     "data": {
      "text/plain": [
       "(array([704], dtype=int64),)"
      ]
     },
     "execution_count": 62,
     "metadata": {},
     "output_type": "execute_result"
    }
   ],
   "source": [
    "np.where(outliers==-1)"
   ]
  },
  {
   "cell_type": "code",
   "execution_count": 63,
   "id": "e16ea836",
   "metadata": {},
   "outputs": [
    {
     "name": "stderr",
     "output_type": "stream",
     "text": [
      "C:\\Users\\Cosimo\\anaconda3\\lib\\site-packages\\sklearn\\base.py:445: UserWarning: X does not have valid feature names, but IsolationForest was fitted with feature names\n",
      "  warnings.warn(\n"
     ]
    },
    {
     "data": {
      "text/plain": [
       "IsolationForest(contamination=0.01, random_state=0)"
      ]
     },
     "execution_count": 63,
     "metadata": {},
     "output_type": "execute_result"
    }
   ],
   "source": [
    "# Static\n",
    "clf_ISOFOR = IsolationForest(contamination=0.01, random_state=0)\n",
    "clf_ISOFOR.fit(X_train_static)"
   ]
  },
  {
   "cell_type": "code",
   "execution_count": 64,
   "id": "e737a53e",
   "metadata": {},
   "outputs": [],
   "source": [
    "outliers = clf_ISOFOR.predict(X_test_static)"
   ]
  },
  {
   "cell_type": "code",
   "execution_count": 65,
   "id": "536f02d9",
   "metadata": {},
   "outputs": [
    {
     "data": {
      "text/plain": [
       "(array([-1,  1]), array([  23, 1537], dtype=int64))"
      ]
     },
     "execution_count": 65,
     "metadata": {},
     "output_type": "execute_result"
    }
   ],
   "source": [
    "np.unique(outliers, return_counts=True)"
   ]
  },
  {
   "cell_type": "code",
   "execution_count": 66,
   "id": "880f50e2",
   "metadata": {
    "scrolled": true
   },
   "outputs": [
    {
     "data": {
      "text/plain": [
       "(array([ 148,  200,  216,  230,  272,  284,  355,  379,  407,  408,  409,\n",
       "         500,  515,  664,  691,  692, 1249, 1250, 1264, 1265, 1269, 1270,\n",
       "        1314], dtype=int64),)"
      ]
     },
     "execution_count": 66,
     "metadata": {},
     "output_type": "execute_result"
    }
   ],
   "source": [
    "np.where(outliers==-1)"
   ]
  },
  {
   "cell_type": "markdown",
   "id": "e8da416a",
   "metadata": {},
   "source": [
    "# ABOD"
   ]
  },
  {
   "cell_type": "code",
   "execution_count": 42,
   "id": "30d225d3",
   "metadata": {},
   "outputs": [],
   "source": [
    "from pyod.models.abod import ABOD"
   ]
  },
  {
   "cell_type": "code",
   "execution_count": 44,
   "id": "7e8e565e",
   "metadata": {},
   "outputs": [],
   "source": [
    "clf_ABOD = ABOD(contamination=0.01)"
   ]
  },
  {
   "cell_type": "code",
   "execution_count": 45,
   "id": "69fec06a",
   "metadata": {},
   "outputs": [
    {
     "data": {
      "text/plain": [
       "ABOD(contamination=0.01, method='fast', n_neighbors=5)"
      ]
     },
     "execution_count": 45,
     "metadata": {},
     "output_type": "execute_result"
    }
   ],
   "source": [
    "clf_ABOD.fit(df_train_new)"
   ]
  },
  {
   "cell_type": "code",
   "execution_count": 46,
   "id": "93d66728",
   "metadata": {},
   "outputs": [
    {
     "data": {
      "text/plain": [
       "array([-1.72927883e-05, -1.59284556e-04, -2.67999582e-04, ...,\n",
       "       -1.75294243e-04, -1.03815217e-04, -5.41070915e-05])"
      ]
     },
     "execution_count": 46,
     "metadata": {},
     "output_type": "execute_result"
    }
   ],
   "source": [
    "clf_ABOD.decision_scores_"
   ]
  },
  {
   "cell_type": "code",
   "execution_count": 47,
   "id": "41c7d76b",
   "metadata": {},
   "outputs": [],
   "source": [
    "outliers = clf_ABOD.predict(df_train_new)"
   ]
  },
  {
   "cell_type": "code",
   "execution_count": 48,
   "id": "cc40b1bb",
   "metadata": {},
   "outputs": [
    {
     "data": {
      "text/plain": [
       "(array([0, 1]), array([7202,  150], dtype=int64))"
      ]
     },
     "execution_count": 48,
     "metadata": {},
     "output_type": "execute_result"
    }
   ],
   "source": [
    "np.unique(outliers, return_counts=True)"
   ]
  },
  {
   "cell_type": "code",
   "execution_count": 49,
   "id": "f1ef8a6a",
   "metadata": {
    "scrolled": false
   },
   "outputs": [
    {
     "data": {
      "image/png": "[encoded data removed]",
      "text/plain": [
       "<Figure size 432x288 with 1 Axes>"
      ]
     },
     "metadata": {
      "needs_background": "light"
     },
     "output_type": "display_data"
    }
   ],
   "source": [
    "plt.hist(clf_ABOD.decision_scores_, bins=20)\n",
    "plt.axvline(np.min(clf_ABOD.decision_scores_[np.where(outliers==1)]), c='k')\n",
    "plt.axvline(np.max(clf_ABOD.decision_scores_[np.where(outliers==1)]), c='r')\n",
    "plt.show()"
   ]
  },
  {
   "cell_type": "code",
   "execution_count": null,
   "id": "cb4ecb74",
   "metadata": {},
   "outputs": [],
   "source": []
  },
  {
   "cell_type": "code",
   "execution_count": null,
   "id": "02a62e8c",
   "metadata": {},
   "outputs": [],
   "source": []
  },
  {
   "cell_type": "code",
   "execution_count": null,
   "id": "bb2afedd",
   "metadata": {},
   "outputs": [],
   "source": []
  },
  {
   "cell_type": "code",
   "execution_count": null,
   "id": "828a6c35",
   "metadata": {},
   "outputs": [],
   "source": []
  }
 ],
 "metadata": {
  "kernelspec": {
   "display_name": "Python 3 (ipykernel)",
   "language": "python",
   "name": "python3"
  },
  "language_info": {
   "codemirror_mode": {
    "name": "ipython",
    "version": 3
   },
   "file_extension": ".py",
   "mimetype": "text/x-python",
   "name": "python",
   "nbconvert_exporter": "python",
   "pygments_lexer": "ipython3",
   "version": "3.8.5"
  }
 },
 "nbformat": 4,
 "nbformat_minor": 5
}
